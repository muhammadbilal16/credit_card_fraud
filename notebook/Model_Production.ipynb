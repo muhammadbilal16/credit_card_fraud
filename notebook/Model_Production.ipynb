{
 "cells": [
  {
   "cell_type": "code",
   "execution_count": 1,
   "id": "bd8bbb5d-ec5f-47ef-ab8d-145e625e1a7d",
   "metadata": {},
   "outputs": [],
   "source": [
    "# Importing Libraries\n",
    "\n",
    "import pandas as pd\n",
    "from sklearn.ensemble import RandomForestRegressor\n",
    "from sklearn.tree import DecisionTreeRegressor\n",
    "from sklearn.model_selection import train_test_split\n",
    "from sklearn.metrics import mean_absolute_error\n",
    "from sklearn.preprocessing import StandardScaler"
   ]
  },
  {
   "cell_type": "code",
   "execution_count": 9,
   "id": "38aea2d4-8240-488a-bef9-8eb906d1bac3",
   "metadata": {},
   "outputs": [],
   "source": [
    "# Function To Automate Building\n",
    "def train_model(csv_file):\n",
    "    # Load data from CSV file into a pandas data frame\n",
    "    df = pd.read_csv(csv_file)\n",
    "\n",
    "    # Split the data into training and testing sets\n",
    "    X = df.drop(['estimated_stock_pct'], axis=1)\n",
    "    y = df['estimated_stock_pct']\n",
    "    X_train, X_test, y_train, y_test = train_test_split(X, y, test_size=0.2, random_state=42)\n",
    "\n",
    "    # Train a decision tree regressor on the training data\n",
    "    model = DecisionTreeRegressor(random_state=42)\n",
    "    model.fit(X_train, y_train)\n",
    "\n",
    "    # Evaluate the model on the testing data\n",
    "    y_pred = model.predict(X_test)\n",
    "    mae = mean_absolute_error(y_test, y_pred)\n",
    "    model_score= model.score(X_train, y_train)\n",
    "\n",
    "    # Print the performance metrics\n",
    "    print(\"Mean Absolute Error: {:.2f}\".format(mae))\n",
    "    \n",
    "    # Print model score\n",
    "    print(\"Model score is: {:.2f}\".format(model_score))"
   ]
  },
  {
   "cell_type": "code",
   "execution_count": 10,
   "id": "3ddcee17-ad28-48a5-8dc1-2e54712d62ac",
   "metadata": {},
   "outputs": [
    {
     "name": "stdout",
     "output_type": "stream",
     "text": [
      "Mean Absolute Error: 0.31\n"
     ]
    }
   ],
   "source": [
    "import train_model\n",
    "\n",
    "train_model.train_model('transformed_data.csv')"
   ]
  },
  {
   "cell_type": "code",
   "execution_count": null,
   "id": "1d64e5e1-0555-4f05-927d-3e3ebbb6e016",
   "metadata": {},
   "outputs": [],
   "source": []
  },
  {
   "cell_type": "code",
   "execution_count": null,
   "id": "590a27e7-872d-40e1-a812-b64c58db60d1",
   "metadata": {},
   "outputs": [],
   "source": []
  }
 ],
 "metadata": {
  "kernelspec": {
   "display_name": "Python 3 (ipykernel)",
   "language": "python",
   "name": "python3"
  },
  "language_info": {
   "codemirror_mode": {
    "name": "ipython",
    "version": 3
   },
   "file_extension": ".py",
   "mimetype": "text/x-python",
   "name": "python",
   "nbconvert_exporter": "python",
   "pygments_lexer": "ipython3",
   "version": "3.10.4"
  }
 },
 "nbformat": 4,
 "nbformat_minor": 5
}
